{
 "cells": [
  {
   "cell_type": "markdown",
   "id": "94553f14-956f-49d1-a9bb-5240e3a67ed8",
   "metadata": {},
   "source": [
    "Serial.begin(...): This function starts serial communication, which allows your Arduino to send and receive data over the USB connection to a computer (or another device capable of serial communication)."
   ]
  },
  {
   "cell_type": "markdown",
   "id": "d6bc866e-051b-4719-bf59-079e23dd3467",
   "metadata": {},
   "source": [
    "9600: This is the baud rate, which is the speed of communication. It specifies that the Arduino and the computer will communicate at 9600 bits per second. Common baud rates include 9600, 14400, 19200, 38400, 57600, and 115200. Both the Arduino and the device it communicates with (usually the Serial Monitor on your computer) must use the same baud rate to understand each other."
   ]
  },
  {
   "cell_type": "markdown",
   "id": "ba6853ea-eda1-4bf6-8ac1-1c4a3b7dda95",
   "metadata": {},
   "source": [
    "Higher baud rates, like 115200, can be used for faster communication, but 9600 is reliable and supported by most devices."
   ]
  },
  {
   "cell_type": "code",
   "execution_count": null,
   "id": "4453a2c8-cc34-4f3f-bdf2-08491478fcbb",
   "metadata": {},
   "outputs": [],
   "source": [
    "int led_pin = 12;\n",
    "int buz_pin = 5;\n",
    "int pir_pin = 4;\n",
    "  \n",
    " void setup(){\n",
    "  Serial.begin(9600);\n",
    "  pinMode(led_pin,OUTPUT);\n",
    "  pinMode(buz_pin,OUTPUT);\n",
    "  pinMode(pir_pin,INPUT);\n",
    "}\n",
    "\n",
    "void loop(){\n",
    "\tint out = digitalRead(pir_pin);\n",
    "  if(out == 1){\n",
    "  \tdigitalWrite(led_pin,HIGH);\n",
    "    digitalWrite(buz_pin,HIGH);\n",
    "    Serial.println(\"motion_detected\");\n",
    "  }\n",
    "  else{\n",
    "  \tdigitalWrite(led_pin,LOW);\n",
    "    digitalWrite(buz_pin,LOW);\n",
    "  }"
   ]
  }
 ],
 "metadata": {
  "kernelspec": {
   "display_name": "Python 3 (ipykernel)",
   "language": "python",
   "name": "python3"
  },
  "language_info": {
   "codemirror_mode": {
    "name": "ipython",
    "version": 3
   },
   "file_extension": ".py",
   "mimetype": "text/x-python",
   "name": "python",
   "nbconvert_exporter": "python",
   "pygments_lexer": "ipython3",
   "version": "3.12.3"
  }
 },
 "nbformat": 4,
 "nbformat_minor": 5
}
