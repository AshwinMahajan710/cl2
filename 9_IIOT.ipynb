{
 "cells": [
  {
   "cell_type": "code",
   "execution_count": 21,
   "id": "e2e3a2d7-ee06-4085-8bcd-ff8c78237890",
   "metadata": {},
   "outputs": [],
   "source": [
    "import hashlib\n",
    "from cryptography.fernet import Fernet  # Fernet is a module from the cryptography library in Python that provides symmetric encryption\n",
    "import numpy as np"
   ]
  },
  {
   "cell_type": "code",
   "execution_count": null,
   "id": "e2a4d3dc-284b-4b79-a3cb-d006e3c0ee88",
   "metadata": {},
   "outputs": [],
   "source": [
    "# generates a unique, secure encryption key for symmetric encryption.\n",
    "# This key is a randomly generated 32-byte string, encoded in base64, that will be used for both encryption and decryption.\n",
    "key = Fernet.generate_key()\n",
    "cipher = Fernet(key) # cipher = Fernet(key) creates a new Fernet cipher object using the encryption key generated in the previous line.\n"
   ]
  },
  {
   "cell_type": "code",
   "execution_count": 22,
   "id": "5d7514c2-7fb8-4e01-a1ef-93af156f4926",
   "metadata": {},
   "outputs": [
    {
     "name": "stdout",
     "output_type": "stream",
     "text": [
      "38\n"
     ]
    }
   ],
   "source": [
    "temp = np.random.randint(30,60)\n",
    "print(temp)"
   ]
  },
  {
   "cell_type": "code",
   "execution_count": 23,
   "id": "77c2b421-5925-4392-92e6-d6ac47ed08f3",
   "metadata": {},
   "outputs": [
    {
     "name": "stdout",
     "output_type": "stream",
     "text": [
      "Encrypted Object : b'gAAAAABnLBYCc1OPrtUi8f8Mo2ZmnJ27f_ixDNqCttnt-0nd24ghH12D5iVF0KQUA55BGlh5PX2Gdhwsn8-5TgUzLZbGQ3uNpg=='\n"
     ]
    }
   ],
   "source": [
    "# str(temp).encode(): The integer temp is first converted into a string using str(temp), and then the string is encoded into bytes using .encode(). \n",
    "# This is necessary because Fernet can only encrypt byte data, not string data.\n",
    "enc = cipher.encrypt(str(temp).encode())\n",
    "print(f'Encrypted Object : {enc}')"
   ]
  },
  {
   "cell_type": "code",
   "execution_count": 24,
   "id": "68c9dbaa-101e-4fbd-b562-62bfa293b4d3",
   "metadata": {},
   "outputs": [
    {
     "name": "stdout",
     "output_type": "stream",
     "text": [
      "decrypted object : 38\n"
     ]
    }
   ],
   "source": [
    "# cipher.decrypt(enc): This decrypts the encrypted object enc using the Fernet cipher and the key that was used to encrypt it. \n",
    "# The decrypt() method takes the encrypted byte string (e.g., b'gAAAAABh...snip...=') and decrypts it, returning the original byte data that was encrypted.\n",
    "\n",
    "dec = cipher.decrypt(enc).decode()\n",
    "print(f'decrypted object : {dec}')"
   ]
  },
  {
   "cell_type": "code",
   "execution_count": 25,
   "id": "19848ce7-2da5-4b01-aa0d-39249ac04484",
   "metadata": {},
   "outputs": [
    {
     "name": "stdout",
     "output_type": "stream",
     "text": [
      "Integrity verified\n"
     ]
    }
   ],
   "source": [
    " \n",
    "og_object = hash(str(temp))\n",
    "dec_hash = hash(dec)\n",
    "\n",
    "if og_object == dec_hash:\n",
    "    print('Integrity verified')\n",
    "else:\n",
    "    print('Not Verified')"
   ]
  },
  {
   "cell_type": "code",
   "execution_count": null,
   "id": "e874a05e-5a9e-4d56-9104-4745b5bcaeb0",
   "metadata": {},
   "outputs": [],
   "source": []
  }
 ],
 "metadata": {
  "kernelspec": {
   "display_name": "Python 3 (ipykernel)",
   "language": "python",
   "name": "python3"
  },
  "language_info": {
   "codemirror_mode": {
    "name": "ipython",
    "version": 3
   },
   "file_extension": ".py",
   "mimetype": "text/x-python",
   "name": "python",
   "nbconvert_exporter": "python",
   "pygments_lexer": "ipython3",
   "version": "3.12.3"
  }
 },
 "nbformat": 4,
 "nbformat_minor": 5
}
